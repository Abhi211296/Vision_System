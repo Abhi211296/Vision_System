{
 "cells": [
  {
   "cell_type": "markdown",
   "metadata": {},
   "source": [
    "## Aim: To get familiar with OpenCV operations\n",
    "### Note: Use matplotlib to display images and write the code after the #Answer comment\n",
    "### Grade points = 10%\n",
    "### Please submit the notebook as the submission and make sure output for each cell is displayed and all cells are executed\n",
    "\n",
    "## Important Note: Please submit your original work and don't share your work with others"
   ]
  },
  {
   "cell_type": "markdown",
   "metadata": {},
   "source": [
    "### Question 1"
   ]
  },
  {
   "cell_type": "code",
   "execution_count": null,
   "metadata": {},
   "outputs": [],
   "source": [
    "#read image opencv-logo\n",
    "#display shape and size of the image\n",
    "\n",
    "#Answer"
   ]
  },
  {
   "cell_type": "markdown",
   "metadata": {},
   "source": [
    "### Question 2"
   ]
  },
  {
   "cell_type": "code",
   "execution_count": null,
   "metadata": {},
   "outputs": [],
   "source": [
    "#create a numpy array of zeroes that is 150 pixels tall, 200 pixels wide\n",
    "#display this black image\n",
    "#Similarly create a numpy array on ones with above dimensions and display the white image\n",
    "\n",
    "#Answer"
   ]
  },
  {
   "cell_type": "markdown",
   "metadata": {},
   "source": [
    "### Question 3"
   ]
  },
  {
   "cell_type": "code",
   "execution_count": null,
   "metadata": {},
   "outputs": [],
   "source": [
    "#read the butterfly image and display the r,g,b channels of the image\n",
    "#Then display the butterfly image in the HSV color space\n",
    "\n",
    "#Answer"
   ]
  },
  {
   "cell_type": "markdown",
   "metadata": {},
   "source": [
    "### Question 4"
   ]
  },
  {
   "cell_type": "code",
   "execution_count": null,
   "metadata": {},
   "outputs": [],
   "source": [
    "#read in the thresh image, perform thresholding by using gaussian blur with thresholds 5,55\n",
    "#then perform dilation, erosion, opening & closing using a 5x5 kernel with 1 iteration on the original thresh image\n",
    "#Finally apply canny edge detection - experiment using wide and narrow thresholds \n",
    "#(so just 2 images in total one wide and one narrow)\n",
    "\n",
    "#Answer"
   ]
  },
  {
   "cell_type": "markdown",
   "metadata": {},
   "source": [
    "### Question 5"
   ]
  },
  {
   "cell_type": "code",
   "execution_count": null,
   "metadata": {},
   "outputs": [],
   "source": [
    "#read in the players image\n",
    "#Perform scaling using resize method\n",
    "#a) half the image using dim=(0,0), fx=0.5, fy=0.5\n",
    "#b) stretch the image to dim = (600,600)\n",
    "#c) stretch the image to dim = (600,600 using interpolation=cv2.INTER_NEAREST\n",
    "\n",
    "#Answer"
   ]
  },
  {
   "cell_type": "markdown",
   "metadata": {},
   "source": [
    "### Question 6"
   ]
  },
  {
   "cell_type": "code",
   "execution_count": null,
   "metadata": {},
   "outputs": [],
   "source": [
    "#read in the detect_blob image\n",
    "#then draw a box shape around the blue solid box in the image that is your region of interest\n",
    "#crop your region of interest\n",
    "#and then rotate it 45 degrees so that it is not clipped\n",
    "\n",
    "#Answer"
   ]
  },
  {
   "cell_type": "markdown",
   "metadata": {},
   "source": [
    "### Question 7"
   ]
  },
  {
   "cell_type": "code",
   "execution_count": null,
   "metadata": {},
   "outputs": [],
   "source": [
    "#read in the cameraman image\n",
    "#Here we want to implement HOG to compute HOG descriptors of the image\n",
    "#For HOG, use these as arguments orientations=8, pixels_per_cell=(16, 16), cells_per_block=(1, 1)\n",
    "#Display the original image as well as the resultant image\n",
    "\n",
    "#Answer"
   ]
  },
  {
   "cell_type": "markdown",
   "metadata": {},
   "source": [
    "### Question 8"
   ]
  },
  {
   "cell_type": "code",
   "execution_count": null,
   "metadata": {},
   "outputs": [],
   "source": [
    "#read in the chess_football image\n",
    "#Here we want to implement Harris Corner detection\n",
    "#use  k =0.001\n",
    "#Display the original image as well as the resultant image\n",
    "\n",
    "#Answer"
   ]
  }
 ],
 "metadata": {
  "kernelspec": {
   "display_name": "Python 3",
   "language": "python",
   "name": "python3"
  },
  "language_info": {
   "codemirror_mode": {
    "name": "ipython",
    "version": 3
   },
   "file_extension": ".py",
   "mimetype": "text/x-python",
   "name": "python",
   "nbconvert_exporter": "python",
   "pygments_lexer": "ipython3",
   "version": "3.7.3"
  }
 },
 "nbformat": 4,
 "nbformat_minor": 2
}
